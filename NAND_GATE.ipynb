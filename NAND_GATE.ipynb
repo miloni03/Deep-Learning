{
  "nbformat": 4,
  "nbformat_minor": 0,
  "metadata": {
    "colab": {
      "provenance": []
    },
    "kernelspec": {
      "name": "python3",
      "display_name": "Python 3"
    },
    "language_info": {
      "name": "python"
    }
  },
  "cells": [
    {
      "cell_type": "code",
      "execution_count": 1,
      "metadata": {
        "id": "Ox4RWPt9Zr6l"
      },
      "outputs": [],
      "source": [
        "import numpy as np\n",
        "import pandas as pd"
      ]
    },
    {
      "cell_type": "code",
      "source": [
        "x1 = [0,1]\n",
        "x2 = [[0,0],[0,1],[1,0],[1,1]]"
      ],
      "metadata": {
        "id": "aSzQlMLOZwNM"
      },
      "execution_count": 2,
      "outputs": []
    },
    {
      "cell_type": "code",
      "source": [
        "gates = {}\n",
        "gates['X'] = x2"
      ],
      "metadata": {
        "id": "Qrav78I8ZxtL"
      },
      "execution_count": 3,
      "outputs": []
    },
    {
      "cell_type": "markdown",
      "source": [
        "**FUNCTIONS**"
      ],
      "metadata": {
        "id": "cI-Fdkuoplya"
      }
    },
    {
      "cell_type": "code",
      "source": [
        "def activation(y_hat):\n",
        "    if(y_hat>=0):\n",
        "        return 1\n",
        "    else:\n",
        "        return 0"
      ],
      "metadata": {
        "id": "ZuaHQ5JYpGvp"
      },
      "execution_count": 4,
      "outputs": []
    },
    {
      "cell_type": "code",
      "source": [
        "def perceptron(x,w,b):\n",
        "    y = []\n",
        "    for x_hat in x:\n",
        "        # print(x_hat)\n",
        "        xw = np.dot(x_hat,w) + b\n",
        "        # print(xw)\n",
        "        y.append(activation(xw))\n",
        "    return y"
      ],
      "metadata": {
        "id": "tSfBrAkipIJT"
      },
      "execution_count": 5,
      "outputs": []
    },
    {
      "cell_type": "markdown",
      "source": [
        "**NOT GATE**"
      ],
      "metadata": {
        "id": "XdeEfUO1prug"
      }
    },
    {
      "cell_type": "code",
      "source": [
        "def NOT(x):\n",
        "    w = [-1]\n",
        "    b = 0\n",
        "    # print(x)\n",
        "    return perceptron(x,w,b)"
      ],
      "metadata": {
        "id": "jRW2IWlRpTn9"
      },
      "execution_count": 6,
      "outputs": []
    },
    {
      "cell_type": "code",
      "source": [
        "not_ = NOT(x1)\n",
        "print('NOT', not_)"
      ],
      "metadata": {
        "colab": {
          "base_uri": "https://localhost:8080/"
        },
        "id": "n_gaLZYspU2m",
        "outputId": "3cda0f25-6606-46a2-e4b7-fd95a922432a"
      },
      "execution_count": 7,
      "outputs": [
        {
          "output_type": "stream",
          "name": "stdout",
          "text": [
            "NOT [1, 0]\n"
          ]
        }
      ]
    },
    {
      "cell_type": "markdown",
      "source": [
        "**NAND GATE**"
      ],
      "metadata": {
        "id": "CnuVWjbxpvSF"
      }
    },
    {
      "cell_type": "code",
      "source": [
        "def NAND(x):\n",
        "    w = [1,1]\n",
        "    b = -2\n",
        "    # print(x)\n",
        "    return NOT(perceptron(x,w,b))"
      ],
      "metadata": {
        "id": "Dd7Gvkv9pVpA"
      },
      "execution_count": 8,
      "outputs": []
    },
    {
      "cell_type": "code",
      "source": [
        "nand = NAND(x2)\n",
        "gates['NAND'] = nand\n",
        "print('NAND', nand)"
      ],
      "metadata": {
        "colab": {
          "base_uri": "https://localhost:8080/"
        },
        "id": "qghiwCfypVmU",
        "outputId": "23741f48-c82d-4c99-c2a9-331e02af5e23"
      },
      "execution_count": 9,
      "outputs": [
        {
          "output_type": "stream",
          "name": "stdout",
          "text": [
            "NAND [1, 1, 1, 0]\n"
          ]
        }
      ]
    },
    {
      "cell_type": "code",
      "source": [
        "all_w = [[0,0],[0,1],[1,0],[1,1]]\n",
        "all_b = [-2, -1, 0, 1, 2]\n",
        "\n",
        "for w in all_w:\n",
        "    for b in all_b:\n",
        "        temp = perceptron(x2,w,b)\n",
        "        if temp == nand:\n",
        "            print(w, b, temp)"
      ],
      "metadata": {
        "id": "pqHuoRoMd6yy"
      },
      "execution_count": 10,
      "outputs": []
    },
    {
      "cell_type": "code",
      "source": [
        "data = pd.DataFrame(gates)\n",
        "print(data)"
      ],
      "metadata": {
        "colab": {
          "base_uri": "https://localhost:8080/"
        },
        "id": "MDnSor_keCz-",
        "outputId": "bfe9d00a-6a37-479a-ca3c-bf3184b51012"
      },
      "execution_count": 11,
      "outputs": [
        {
          "output_type": "stream",
          "name": "stdout",
          "text": [
            "        X  NAND\n",
            "0  [0, 0]     1\n",
            "1  [0, 1]     1\n",
            "2  [1, 0]     1\n",
            "3  [1, 1]     0\n"
          ]
        }
      ]
    },
    {
      "cell_type": "code",
      "source": [],
      "metadata": {
        "id": "56wZ_eKDeECV"
      },
      "execution_count": null,
      "outputs": []
    }
  ]
}