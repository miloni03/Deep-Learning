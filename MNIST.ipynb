{
  "nbformat": 4,
  "nbformat_minor": 0,
  "metadata": {
    "colab": {
      "provenance": []
    },
    "kernelspec": {
      "name": "python3",
      "display_name": "Python 3"
    },
    "language_info": {
      "name": "python"
    }
  },
  "cells": [
    {
      "cell_type": "markdown",
      "source": [
        "## **MNIST CNN**"
      ],
      "metadata": {
        "id": "2hfc6JIbVbVI"
      }
    },
    {
      "cell_type": "code",
      "source": [
        "import warnings\n",
        "warnings.filterwarnings('ignore')\n",
        "\n",
        "import numpy as np\n",
        "import pandas as pd\n",
        "import seaborn as sns\n",
        "import matplotlib.pyplot as plt\n",
        "%matplotlib inline\n",
        "\n",
        "import tensorflow as tf\n",
        "from tensorflow import keras\n",
        "from keras.models import Sequential\n",
        "from keras.layers import Dense, Dropout, Flatten, Conv2D, MaxPooling2D\n",
        "from keras.callbacks import ModelCheckpoint"
      ],
      "metadata": {
        "id": "6E2Hwcw3Vfl7"
      },
      "execution_count": null,
      "outputs": []
    },
    {
      "cell_type": "code",
      "source": [
        "(X_train, Y_train), (X_test, Y_test) = keras.datasets.mnist.load_data()"
      ],
      "metadata": {
        "id": "NAMR--5i8NNq",
        "colab": {
          "base_uri": "https://localhost:8080/"
        },
        "outputId": "ee3e714c-9fe1-4791-fb64-3c6292ab9433"
      },
      "execution_count": null,
      "outputs": [
        {
          "output_type": "stream",
          "name": "stdout",
          "text": [
            "Downloading data from https://storage.googleapis.com/tensorflow/tf-keras-datasets/mnist.npz\n",
            "11490434/11490434 [==============================] - 0s 0us/step\n"
          ]
        }
      ]
    },
    {
      "cell_type": "code",
      "source": [
        "# CREATING VALIDATION DATASET\n",
        "X_valid = X_train[50000:]\n",
        "Y_valid = Y_train[50000:]\n",
        "\n",
        "X_train = X_train[:50000]\n",
        "Y_train = Y_train[:50000]"
      ],
      "metadata": {
        "id": "g439n-H18awf"
      },
      "execution_count": null,
      "outputs": []
    },
    {
      "cell_type": "code",
      "source": [
        "print(f'SHAPE OF X_train = {X_train.shape} AND Y_train = {Y_train.shape}')\n",
        "print(f'SHAPE OF X_valid = {X_valid.shape} AND Y_valid = {Y_valid.shape}')\n",
        "print(f'SHAPE OF X_test  = {X_test.shape} AND Y_test  = {Y_test.shape}')"
      ],
      "metadata": {
        "colab": {
          "base_uri": "https://localhost:8080/"
        },
        "id": "F7GkKnQ98sTk",
        "outputId": "5f88798c-6bf6-4dfd-c403-aa7432e83297"
      },
      "execution_count": null,
      "outputs": [
        {
          "output_type": "stream",
          "name": "stdout",
          "text": [
            "SHAPE OF X_train = (50000, 28, 28) AND Y_train = (50000,)\n",
            "SHAPE OF X_valid = (10000, 28, 28) AND Y_valid = (10000,)\n",
            "SHAPE OF X_test  = (10000, 28, 28) AND Y_test  = (10000,)\n"
          ]
        }
      ]
    },
    {
      "cell_type": "code",
      "source": [
        "fig = plt.figure(figsize = (15, 10))\n",
        "for i in range(1, (3*5)+1):\n",
        "    rn = np.random.randint(50000)\n",
        "    fig.add_subplot(3, 5, i)\n",
        "    plt.imshow(X_train[rn], cmap='gray')\n",
        "    plt.xlabel(Y_train[rn], color='green')\n",
        "\n",
        "plt.show()"
      ],
      "metadata": {
        "colab": {
          "base_uri": "https://localhost:8080/",
          "height": 591
        },
        "id": "iCgvGYIW9ZaW",
        "outputId": "931b1fb9-5cf8-48bb-b03d-ea86c0201e4d"
      },
      "execution_count": null,
      "outputs": [
        {
          "output_type": "display_data",
          "data": {
            "text/plain": [
              "<Figure size 1080x720 with 15 Axes>"
            ],
            "image/png": "[encoded data removed]"
          },
          "metadata": {
            "needs_background": "light"
          }
        }
      ]
    },
    {
      "cell_type": "code",
      "source": [
        "# NORMALIZING THE DATA\n",
        "X_train = X_train / 255\n",
        "X_valid = X_valid / 255\n",
        "X_test = X_test / 255"
      ],
      "metadata": {
        "id": "5P4Pt308-BYK"
      },
      "execution_count": null,
      "outputs": []
    },
    {
      "cell_type": "code",
      "source": [
        "print(X_train.shape)"
      ],
      "metadata": {
        "colab": {
          "base_uri": "https://localhost:8080/"
        },
        "id": "4-DS9qjn-cba",
        "outputId": "2b924754-a5ab-4539-a503-a2f381be395c"
      },
      "execution_count": null,
      "outputs": [
        {
          "output_type": "stream",
          "name": "stdout",
          "text": [
            "(50000, 28, 28)\n"
          ]
        }
      ]
    },
    {
      "cell_type": "code",
      "source": [
        "# CONVERTING np.array to list\n",
        "Y_test = [i for i in Y_test]"
      ],
      "metadata": {
        "id": "D3kzi-Ig8_Lj"
      },
      "execution_count": null,
      "outputs": []
    },
    {
      "cell_type": "code",
      "source": [
        "model = Sequential([\n",
        "    Conv2D(filters=32, kernel_size=(5,5), activation='relu', input_shape=(28, 28, 1)),\n",
        "    MaxPooling2D(pool_size=(2,2)),\n",
        "    \n",
        "    Conv2D(filters=64, kernel_size=(3,3), activation='relu'),\n",
        "    MaxPooling2D(pool_size=(2,2)),\n",
        "    \n",
        "    Conv2D(filters=32, kernel_size=(3,3), activation='relu'),\n",
        "    MaxPooling2D(pool_size=(2,2)),\n",
        "    \n",
        "    Flatten(),\n",
        "\n",
        "    Dense(32, activation='relu'),\n",
        "    Dense(64, activation='relu'),\n",
        "    Dense(32, activation='relu'),\n",
        "    Dense(10, activation='softmax')\n",
        "])"
      ],
      "metadata": {
        "id": "1tFoCM_7-ft3"
      },
      "execution_count": null,
      "outputs": []
    },
    {
      "cell_type": "code",
      "source": [
        "opt = ['adam', 'rmsprop', 'adadelta', 'adagrad', 'sgd']\n",
        "for i in opt:\n",
        "    print(f'\\n--------------------------------\\n\\n\\nFOR {i.upper()}')\n",
        "    model.compile(optimizer=i, loss='sparse_categorical_crossentropy', metrics=['accuracy'])\n",
        "    model.fit(X_train, Y_train, epochs=10, validation_data=(X_valid, Y_valid), verbose=0)\n",
        "    print()\n",
        "    Y_pred = model.predict(X_test)\n",
        "    Y_pred = [np.argmax(i) for i in Y_pred]\n",
        "\n",
        "    incorr = [i for i in range(len(Y_test)) if Y_test[i] != Y_pred[i]]\n",
        "    print(f\"FOR {i.upper()}, INCORRECT PREDICTIONS = {len(incorr)} / 10000\\n\")"
      ],
      "metadata": {
        "colab": {
          "base_uri": "https://localhost:8080/"
        },
        "id": "5mQG21BC_XLo",
        "outputId": "ce983e27-4de2-41cc-b516-735bab60a2b8"
      },
      "execution_count": null,
      "outputs": [
        {
          "output_type": "stream",
          "name": "stdout",
          "text": [
            "\n",
            "--------------------------------\n",
            "\n",
            "\n",
            "FOR ADAM\n",
            "\n",
            "313/313 [==============================] - 3s 10ms/step\n",
            "FOR ADAM, INCORRECT PREDICTIONS = 104 / 10000\n",
            "\n",
            "\n",
            "--------------------------------\n",
            "\n",
            "\n",
            "FOR RMSPROP\n",
            "\n",
            "313/313 [==============================] - 3s 10ms/step\n",
            "FOR RMSPROP, INCORRECT PREDICTIONS = 115 / 10000\n",
            "\n",
            "\n",
            "--------------------------------\n",
            "\n",
            "\n",
            "FOR ADADELTA\n",
            "\n",
            "313/313 [==============================] - 3s 10ms/step\n",
            "FOR ADADELTA, INCORRECT PREDICTIONS = 97 / 10000\n",
            "\n",
            "\n",
            "--------------------------------\n",
            "\n",
            "\n",
            "FOR ADAGRAD\n",
            "\n",
            "313/313 [==============================] - 3s 10ms/step\n",
            "FOR ADAGRAD, INCORRECT PREDICTIONS = 86 / 10000\n",
            "\n",
            "\n",
            "--------------------------------\n",
            "\n",
            "\n",
            "FOR SGD\n",
            "\n",
            "313/313 [==============================] - 3s 10ms/step\n",
            "FOR SGD, INCORRECT PREDICTIONS = 89 / 10000\n",
            "\n"
          ]
        }
      ]
    },
    {
      "cell_type": "markdown",
      "source": [
        "## ** FASHION MNIST CNN**"
      ],
      "metadata": {
        "id": "4h3mMQl9KKG_"
      }
    },
    {
      "cell_type": "code",
      "source": [
        "import warnings\n",
        "warnings.filterwarnings('ignore')\n",
        "\n",
        "import numpy as np\n",
        "import pandas as pd\n",
        "import seaborn as sns\n",
        "import matplotlib.pyplot as plt\n",
        "%matplotlib inline\n",
        "\n",
        "import tensorflow as tf\n",
        "from tensorflow import keras\n",
        "from keras.models import Sequential\n",
        "from keras.layers import Dense, Dropout, Flatten, Conv2D, MaxPooling2D\n",
        "from keras.callbacks import ModelCheckpoint"
      ],
      "metadata": {
        "id": "QvY3ZQOzKKHF"
      },
      "execution_count": null,
      "outputs": []
    },
    {
      "cell_type": "code",
      "source": [
        "(X_train, Y_train), (X_test, Y_test) = keras.datasets.fashion_mnist.load_data()"
      ],
      "metadata": {
        "id": "QoNMr3snKKHF",
        "colab": {
          "base_uri": "https://localhost:8080/"
        },
        "outputId": "9c08fca9-cceb-4295-c469-e13f327c42e4"
      },
      "execution_count": null,
      "outputs": [
        {
          "output_type": "stream",
          "name": "stdout",
          "text": [
            "Downloading data from https://storage.googleapis.com/tensorflow/tf-keras-datasets/train-labels-idx1-ubyte.gz\n",
            "29515/29515 [==============================] - 0s 0us/step\n",
            "Downloading data from https://storage.googleapis.com/tensorflow/tf-keras-datasets/train-images-idx3-ubyte.gz\n",
            "26421880/26421880 [==============================] - 0s 0us/step\n",
            "Downloading data from https://storage.googleapis.com/tensorflow/tf-keras-datasets/t10k-labels-idx1-ubyte.gz\n",
            "5148/5148 [==============================] - 0s 0us/step\n",
            "Downloading data from https://storage.googleapis.com/tensorflow/tf-keras-datasets/t10k-images-idx3-ubyte.gz\n",
            "4422102/4422102 [==============================] - 0s 0us/step\n"
          ]
        }
      ]
    },
    {
      "cell_type": "code",
      "source": [
        "# CREATING VALIDATION DATASET\n",
        "X_valid = X_train[50000:]\n",
        "Y_valid = Y_train[50000:]\n",
        "\n",
        "X_train = X_train[:50000]\n",
        "Y_train = Y_train[:50000]"
      ],
      "metadata": {
        "id": "pw_apCpaKKHF"
      },
      "execution_count": null,
      "outputs": []
    },
    {
      "cell_type": "code",
      "source": [
        "print(f'SHAPE OF X_train = {X_train.shape} AND Y_train = {Y_train.shape}')\n",
        "print(f'SHAPE OF X_valid = {X_valid.shape} AND Y_valid = {Y_valid.shape}')\n",
        "print(f'SHAPE OF X_test  = {X_test.shape} AND Y_test  = {Y_test.shape}')"
      ],
      "metadata": {
        "colab": {
          "base_uri": "https://localhost:8080/"
        },
        "outputId": "8fa59af5-df9a-4a8b-f282-51715112a386",
        "id": "J09WuEE3KKHF"
      },
      "execution_count": null,
      "outputs": [
        {
          "output_type": "stream",
          "name": "stdout",
          "text": [
            "SHAPE OF X_train = (50000, 28, 28) AND Y_train = (50000,)\n",
            "SHAPE OF X_valid = (10000, 28, 28) AND Y_valid = (10000,)\n",
            "SHAPE OF X_test  = (10000, 28, 28) AND Y_test  = (10000,)\n"
          ]
        }
      ]
    },
    {
      "cell_type": "code",
      "source": [
        "fig = plt.figure(figsize = (15, 10))\n",
        "for i in range(1, (3*5)+1):\n",
        "    rn = np.random.randint(50000)\n",
        "    fig.add_subplot(3, 5, i)\n",
        "    plt.imshow(X_train[rn], cmap='gray')\n",
        "    plt.xlabel(Y_train[rn], color='green')\n",
        "\n",
        "plt.show()"
      ],
      "metadata": {
        "colab": {
          "base_uri": "https://localhost:8080/",
          "height": 591
        },
        "outputId": "9c1fdc79-6057-42f8-96e1-333bad86adb9",
        "id": "6e9AACZBKKHF"
      },
      "execution_count": null,
      "outputs": [
        {
          "output_type": "display_data",
          "data": {
            "text/plain": [
              "<Figure size 1080x720 with 15 Axes>"
            ],
            "image/png": "[encoded data removed]"
          },
          "metadata": {
            "needs_background": "light"
          }
        }
      ]
    },
    {
      "cell_type": "code",
      "source": [
        "# NORMALIZING THE DATA\n",
        "X_train = X_train / 255\n",
        "X_valid = X_valid / 255\n",
        "X_test = X_test / 255"
      ],
      "metadata": {
        "id": "sxIxIHh4KKHF"
      },
      "execution_count": null,
      "outputs": []
    },
    {
      "cell_type": "code",
      "source": [
        "print(X_train.shape)"
      ],
      "metadata": {
        "colab": {
          "base_uri": "https://localhost:8080/"
        },
        "outputId": "fb242d90-6e23-40d4-d689-7f3e53da2122",
        "id": "Qoql0_1gKKHF"
      },
      "execution_count": null,
      "outputs": [
        {
          "output_type": "stream",
          "name": "stdout",
          "text": [
            "(50000, 28, 28)\n"
          ]
        }
      ]
    },
    {
      "cell_type": "code",
      "source": [
        "# CONVERTING np.array to list\n",
        "Y_test = [i for i in Y_test]"
      ],
      "metadata": {
        "id": "skAWFZarKKHF"
      },
      "execution_count": null,
      "outputs": []
    },
    {
      "cell_type": "code",
      "source": [
        "model = Sequential([\n",
        "    Conv2D(filters=32, kernel_size=(5,5), activation='relu', input_shape=(28, 28, 1)),\n",
        "    MaxPooling2D(pool_size=(2,2)),\n",
        "    \n",
        "    Conv2D(filters=64, kernel_size=(3,3), activation='relu'),\n",
        "    MaxPooling2D(pool_size=(2,2)),\n",
        "    \n",
        "    Conv2D(filters=32, kernel_size=(3,3), activation='relu'),\n",
        "    MaxPooling2D(pool_size=(2,2)),\n",
        "    \n",
        "    Flatten(),\n",
        "\n",
        "    Dense(32, activation='relu'),\n",
        "    Dense(64, activation='relu'),\n",
        "    Dense(32, activation='relu'),\n",
        "    Dense(10, activation='softmax')\n",
        "])"
      ],
      "metadata": {
        "id": "5GNWNomJKKHF"
      },
      "execution_count": null,
      "outputs": []
    },
    {
      "cell_type": "code",
      "source": [
        "opt = ['adam', 'rmsprop', 'adadelta', 'adagrad', 'sgd']\n",
        "for i in opt:\n",
        "    print(f'\\n--------------------------------\\nFOR {i.upper()}')\n",
        "    model.compile(optimizer=i, loss='sparse_categorical_crossentropy', metrics=['accuracy'])\n",
        "    model.fit(X_train, Y_train, epochs=10, validation_data=(X_valid, Y_valid), verbose=0)\n",
        "    print()\n",
        "    Y_pred = model.predict(X_test)\n",
        "    Y_pred = [np.argmax(i) for i in Y_pred]\n",
        "\n",
        "    incorr = [i for i in range(len(Y_test)) if Y_test[i] != Y_pred[i]]\n",
        "    print(f\"FOR {i.upper()}, INCORRECT PREDICTIONS = {len(incorr)} / 10000\\n\")"
      ],
      "metadata": {
        "colab": {
          "base_uri": "https://localhost:8080/"
        },
        "outputId": "7ec6427c-5591-4ec5-b47e-b4b4438fb704",
        "id": "ItZzHtPuKKHG"
      },
      "execution_count": null,
      "outputs": [
        {
          "output_type": "stream",
          "name": "stdout",
          "text": [
            "\n",
            "--------------------------------\n",
            "FOR ADAM\n",
            "\n",
            "313/313 [==============================] - 3s 10ms/step\n",
            "FOR ADAM, INCORRECT PREDICTIONS = 1184 / 10000\n",
            "\n",
            "\n",
            "--------------------------------\n",
            "FOR RMSPROP\n",
            "\n",
            "313/313 [==============================] - 3s 10ms/step\n",
            "FOR RMSPROP, INCORRECT PREDICTIONS = 1214 / 10000\n",
            "\n",
            "\n",
            "--------------------------------\n",
            "FOR ADADELTA\n",
            "\n",
            "313/313 [==============================] - 3s 10ms/step\n",
            "FOR ADADELTA, INCORRECT PREDICTIONS = 1071 / 10000\n",
            "\n",
            "\n",
            "--------------------------------\n",
            "FOR ADAGRAD\n",
            "\n",
            "313/313 [==============================] - 3s 10ms/step\n",
            "FOR ADAGRAD, INCORRECT PREDICTIONS = 1045 / 10000\n",
            "\n",
            "\n",
            "--------------------------------\n",
            "FOR SGD\n",
            "\n",
            "313/313 [==============================] - 3s 10ms/step\n",
            "FOR SGD, INCORRECT PREDICTIONS = 1065 / 10000\n",
            "\n"
          ]
        }
      ]
    }
  ]
}