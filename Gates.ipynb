{
  "nbformat": 4,
  "nbformat_minor": 0,
  "metadata": {
    "colab": {
      "provenance": []
    },
    "kernelspec": {
      "name": "python3",
      "display_name": "Python 3"
    },
    "language_info": {
      "name": "python"
    }
  },
  "cells": [
    {
      "cell_type": "markdown",
      "source": [
        "AND"
      ],
      "metadata": {
        "id": "B5a9zbmTHDSs"
      }
    },
    {
      "cell_type": "code",
      "execution_count": null,
      "metadata": {
        "id": "M9T7jj_KfHXm"
      },
      "outputs": [],
      "source": [
        "import numpy as np\n",
        "import pandas as pd"
      ]
    },
    {
      "cell_type": "code",
      "source": [
        "x1 = [0,1]\n",
        "x2 = [[0,0],[0,1],[1,0],[1,1]]"
      ],
      "metadata": {
        "id": "jHAVrrx8pCNf"
      },
      "execution_count": null,
      "outputs": []
    },
    {
      "cell_type": "code",
      "source": [
        "gates = {}\n",
        "gates['X'] = x2"
      ],
      "metadata": {
        "id": "IN_F3GrfpFcJ"
      },
      "execution_count": null,
      "outputs": []
    },
    {
      "cell_type": "code",
      "source": [
        "def activation(y_hat):\n",
        "    if(y_hat>=0):\n",
        "        return 1\n",
        "    else:\n",
        "        return 0"
      ],
      "metadata": {
        "id": "ZuaHQ5JYpGvp"
      },
      "execution_count": null,
      "outputs": []
    },
    {
      "cell_type": "code",
      "source": [
        "def perceptron(x,w,b):\n",
        "    y = []\n",
        "    for x_hat in x:\n",
        "        # print(x_hat)\n",
        "        xw = np.dot(x_hat,w) + b\n",
        "        # print(xw)\n",
        "        y.append(activation(xw))\n",
        "    return y"
      ],
      "metadata": {
        "id": "tSfBrAkipIJT"
      },
      "execution_count": null,
      "outputs": []
    },
    {
      "cell_type": "code",
      "source": [
        "def AND(x):\n",
        "    w = [1,1]\n",
        "    b = -2\n",
        "    # print(x)\n",
        "    return perceptron(x,w,b)"
      ],
      "metadata": {
        "id": "en8rZ-mApNF8"
      },
      "execution_count": null,
      "outputs": []
    },
    {
      "cell_type": "code",
      "source": [
        "and_ = AND(x2)\n",
        "gates['AND'] = and_\n",
        "print('AND', and_)"
      ],
      "metadata": {
        "colab": {
          "base_uri": "https://localhost:8080/"
        },
        "id": "kehQUAUjpOrJ",
        "outputId": "fb6b4668-aa46-4fc7-8f74-5361301f36de"
      },
      "execution_count": null,
      "outputs": [
        {
          "output_type": "stream",
          "name": "stdout",
          "text": [
            "AND [0, 0, 0, 1]\n"
          ]
        }
      ]
    },
    {
      "cell_type": "code",
      "source": [
        "all_w = [[0,0],[0,1],[1,0],[1,1]]\n",
        "all_b = [-2, -1, 0, 1, 2]\n",
        "\n",
        "for w in all_w:\n",
        "    for b in all_b:\n",
        "        temp = perceptron(x2,w,b)\n",
        "       \n",
        "        print(w, b, temp)"
      ],
      "metadata": {
        "colab": {
          "base_uri": "https://localhost:8080/"
        },
        "id": "x3RmHEyZ0S40",
        "outputId": "16759946-b30a-4e2f-dd4d-aed57bfe43f4"
      },
      "execution_count": null,
      "outputs": [
        {
          "output_type": "stream",
          "name": "stdout",
          "text": [
            "[0, 0] -2 [0, 0, 0, 0]\n",
            "[0, 0] -1 [0, 0, 0, 0]\n",
            "[0, 0] 0 [1, 1, 1, 1]\n",
            "[0, 0] 1 [1, 1, 1, 1]\n",
            "[0, 0] 2 [1, 1, 1, 1]\n",
            "[0, 1] -2 [0, 0, 0, 0]\n",
            "[0, 1] -1 [0, 1, 0, 1]\n",
            "[0, 1] 0 [1, 1, 1, 1]\n",
            "[0, 1] 1 [1, 1, 1, 1]\n",
            "[0, 1] 2 [1, 1, 1, 1]\n",
            "[1, 0] -2 [0, 0, 0, 0]\n",
            "[1, 0] -1 [0, 0, 1, 1]\n",
            "[1, 0] 0 [1, 1, 1, 1]\n",
            "[1, 0] 1 [1, 1, 1, 1]\n",
            "[1, 0] 2 [1, 1, 1, 1]\n",
            "[1, 1] -2 [0, 0, 0, 1]\n",
            "[1, 1] -1 [0, 1, 1, 1]\n",
            "[1, 1] 0 [1, 1, 1, 1]\n",
            "[1, 1] 1 [1, 1, 1, 1]\n",
            "[1, 1] 2 [1, 1, 1, 1]\n"
          ]
        }
      ]
    },
    {
      "cell_type": "code",
      "source": [
        "and_"
      ],
      "metadata": {
        "colab": {
          "base_uri": "https://localhost:8080/"
        },
        "id": "2bPpHqtCGQJu",
        "outputId": "f6365fa2-66f8-42e8-daad-a890d642db3e"
      },
      "execution_count": null,
      "outputs": [
        {
          "output_type": "execute_result",
          "data": {
            "text/plain": [
              "[0, 0, 0, 1]"
            ]
          },
          "metadata": {},
          "execution_count": 16
        }
      ]
    },
    {
      "cell_type": "code",
      "source": [
        "all_w = [[0,0],[0,1],[1,0],[1,1]]\n",
        "all_b = [-2, -1, 0, 1, 2]\n",
        "\n",
        "for w in all_w:\n",
        "    for b in all_b:\n",
        "        temp = perceptron(x2,w,b)\n",
        "        if temp == and_:\n",
        "            print(w, b, temp)"
      ],
      "metadata": {
        "colab": {
          "base_uri": "https://localhost:8080/"
        },
        "id": "xv1Koc2xFg87",
        "outputId": "51e81f3c-2eaa-4ab9-9c42-a5584642b6e1"
      },
      "execution_count": null,
      "outputs": [
        {
          "output_type": "stream",
          "name": "stdout",
          "text": [
            "[1, 1] -2 [0, 0, 0, 1]\n"
          ]
        }
      ]
    },
    {
      "cell_type": "markdown",
      "source": [
        "OR"
      ],
      "metadata": {
        "id": "fLtoGH4wHRT9"
      }
    },
    {
      "cell_type": "code",
      "execution_count": null,
      "metadata": {
        "id": "VAaE5PM9HSgu"
      },
      "outputs": [],
      "source": [
        "import numpy as np\n",
        "import pandas as pd"
      ]
    },
    {
      "cell_type": "code",
      "source": [
        "x1 = [0,1]\n",
        "x2 = [[0,0],[0,1],[1,0],[1,1]]"
      ],
      "metadata": {
        "id": "MlxdHmWLHSgu"
      },
      "execution_count": null,
      "outputs": []
    },
    {
      "cell_type": "code",
      "source": [
        "gates = {}\n",
        "gates['X'] = x2"
      ],
      "metadata": {
        "id": "7adRLzeyHSgu"
      },
      "execution_count": null,
      "outputs": []
    },
    {
      "cell_type": "code",
      "source": [
        "def activation(y_hat):\n",
        "    if(y_hat>=0):\n",
        "        return 1\n",
        "    else:\n",
        "        return 0"
      ],
      "metadata": {
        "id": "9n6DM2TsHSgu"
      },
      "execution_count": null,
      "outputs": []
    },
    {
      "cell_type": "code",
      "source": [
        "def perceptron(x,w,b):\n",
        "    y = []\n",
        "    for x_hat in x:\n",
        "        # print(x_hat)\n",
        "        xw = np.dot(x_hat,w) + b\n",
        "        # print(xw)\n",
        "        y.append(activation(xw))\n",
        "    return y"
      ],
      "metadata": {
        "id": "5aYo_3GKHSgv"
      },
      "execution_count": null,
      "outputs": []
    },
    {
      "cell_type": "code",
      "source": [
        "def OR(x):\n",
        "    w = [1,1]\n",
        "    b = -1\n",
        "    # print(x)\n",
        "    return perceptron(x,w,b)"
      ],
      "metadata": {
        "id": "_JqA9HutpJ2N"
      },
      "execution_count": null,
      "outputs": []
    },
    {
      "cell_type": "code",
      "source": [
        "or_ = OR(x2)\n",
        "gates['OR'] = or_\n",
        "print('OR', or_)"
      ],
      "metadata": {
        "colab": {
          "base_uri": "https://localhost:8080/"
        },
        "id": "p6EiEZfrpLNg",
        "outputId": "dba6bd0a-4a1c-4921-d950-43e5c19324ae"
      },
      "execution_count": null,
      "outputs": [
        {
          "output_type": "stream",
          "name": "stdout",
          "text": [
            "OR [0, 1, 1, 1]\n"
          ]
        }
      ]
    },
    {
      "cell_type": "code",
      "source": [
        "all_w = [[0,0],[0,1],[1,0],[1,1]]\n",
        "all_b = [-1, 0, 1]\n",
        "\n",
        "for w in all_w:\n",
        "    for b in all_b:\n",
        "        temp = perceptron(x2,w,b)\n",
        "       \n",
        "        print(w, b, temp)"
      ],
      "metadata": {
        "colab": {
          "base_uri": "https://localhost:8080/"
        },
        "outputId": "754c7003-b7b7-4764-bcdc-341cf2354a81",
        "id": "kRdKtBDDHhV0"
      },
      "execution_count": null,
      "outputs": [
        {
          "output_type": "stream",
          "name": "stdout",
          "text": [
            "[0, 0] -1 [0, 0, 0, 0]\n",
            "[0, 0] 0 [1, 1, 1, 1]\n",
            "[0, 0] 1 [1, 1, 1, 1]\n",
            "[0, 1] -1 [0, 1, 0, 1]\n",
            "[0, 1] 0 [1, 1, 1, 1]\n",
            "[0, 1] 1 [1, 1, 1, 1]\n",
            "[1, 0] -1 [0, 0, 1, 1]\n",
            "[1, 0] 0 [1, 1, 1, 1]\n",
            "[1, 0] 1 [1, 1, 1, 1]\n",
            "[1, 1] -1 [0, 1, 1, 1]\n",
            "[1, 1] 0 [1, 1, 1, 1]\n",
            "[1, 1] 1 [1, 1, 1, 1]\n"
          ]
        }
      ]
    },
    {
      "cell_type": "code",
      "source": [
        "all_w = [[0,0],[0,1],[1,0],[1,1]]\n",
        "all_b = [ -1, 0, 1]\n",
        "\n",
        "for w in all_w:\n",
        "    for b in all_b:\n",
        "        temp = perceptron(x2,w,b)\n",
        "        if temp == or_:\n",
        "            print(w, b, temp)"
      ],
      "metadata": {
        "colab": {
          "base_uri": "https://localhost:8080/"
        },
        "outputId": "592e327b-f871-4bd2-c2ba-2ded3f030d1f",
        "id": "yArdCaAMHpnV"
      },
      "execution_count": null,
      "outputs": [
        {
          "output_type": "stream",
          "name": "stdout",
          "text": [
            "[1, 1] -1 [0, 1, 1, 1]\n"
          ]
        }
      ]
    },
    {
      "cell_type": "markdown",
      "source": [
        "NOT"
      ],
      "metadata": {
        "id": "AFstY3wPIFCk"
      }
    },
    {
      "cell_type": "code",
      "source": [
        "def NOT(x):\n",
        "    w = -1\n",
        "    b = 0\n",
        "    print(b,w)\n",
        "    return perceptron(x,w,b)"
      ],
      "metadata": {
        "id": "jRW2IWlRpTn9"
      },
      "execution_count": null,
      "outputs": []
    },
    {
      "cell_type": "code",
      "source": [
        "not_ = NOT(x1)\n",
        "print('NOT', not_)"
      ],
      "metadata": {
        "colab": {
          "base_uri": "https://localhost:8080/"
        },
        "id": "n_gaLZYspU2m",
        "outputId": "2eb21e47-64cd-4e87-a29c-3d02ddac8df0"
      },
      "execution_count": null,
      "outputs": [
        {
          "output_type": "stream",
          "name": "stdout",
          "text": [
            "0 -1\n",
            "NOT [1, 0]\n"
          ]
        }
      ]
    },
    {
      "cell_type": "markdown",
      "source": [
        "NOR"
      ],
      "metadata": {
        "id": "ZLQzqCGTILPt"
      }
    }
  ]
}