{
  "nbformat": 4,
  "nbformat_minor": 0,
  "metadata": {
    "colab": {
      "provenance": []
    },
    "kernelspec": {
      "name": "python3",
      "display_name": "Python 3"
    },
    "language_info": {
      "name": "python"
    }
  },
  "cells": [
    {
      "cell_type": "code",
      "execution_count": 1,
      "metadata": {
        "id": "Ox4RWPt9Zr6l"
      },
      "outputs": [],
      "source": [
        "import numpy as np\n",
        "import pandas as pd"
      ]
    },
    {
      "cell_type": "code",
      "source": [
        "x1 = [0,1]\n",
        "x2 = [[0,0],[0,1],[1,0],[1,1]]"
      ],
      "metadata": {
        "id": "aSzQlMLOZwNM"
      },
      "execution_count": 2,
      "outputs": []
    },
    {
      "cell_type": "code",
      "source": [
        "gates = {}\n",
        "gates['X'] = x2"
      ],
      "metadata": {
        "id": "Qrav78I8ZxtL"
      },
      "execution_count": 3,
      "outputs": []
    },
    {
      "cell_type": "markdown",
      "source": [
        "**FUNCTIONS**"
      ],
      "metadata": {
        "id": "cI-Fdkuoplya"
      }
    },
    {
      "cell_type": "code",
      "source": [
        "def activation(y_hat):\n",
        "    if(y_hat>=0):\n",
        "        return 1\n",
        "    else:\n",
        "        return 0"
      ],
      "metadata": {
        "id": "ZuaHQ5JYpGvp"
      },
      "execution_count": 4,
      "outputs": []
    },
    {
      "cell_type": "code",
      "source": [
        "def perceptron(x,w,b):\n",
        "    y = []\n",
        "    for x_hat in x:\n",
        "        # print(x_hat)\n",
        "        xw = np.dot(x_hat,w) + b\n",
        "        # print(xw)\n",
        "        y.append(activation(xw))\n",
        "    return y"
      ],
      "metadata": {
        "id": "tSfBrAkipIJT"
      },
      "execution_count": 5,
      "outputs": []
    },
    {
      "cell_type": "markdown",
      "source": [
        "**NOT GATE**"
      ],
      "metadata": {
        "id": "XdeEfUO1prug"
      }
    },
    {
      "cell_type": "code",
      "source": [
        "def NOT(x):\n",
        "    w = [-1]\n",
        "    b = 0\n",
        "    # print(x)\n",
        "    return perceptron(x,w,b)"
      ],
      "metadata": {
        "id": "jRW2IWlRpTn9"
      },
      "execution_count": 6,
      "outputs": []
    },
    {
      "cell_type": "code",
      "source": [
        "not_ = NOT(x1)\n",
        "print('NOT', not_)"
      ],
      "metadata": {
        "colab": {
          "base_uri": "https://localhost:8080/"
        },
        "id": "n_gaLZYspU2m",
        "outputId": "9ccb5580-bb9f-4b4b-f466-40f33c0fcb96"
      },
      "execution_count": 7,
      "outputs": [
        {
          "output_type": "stream",
          "name": "stdout",
          "text": [
            "NOT [1, 0]\n"
          ]
        }
      ]
    },
    {
      "cell_type": "markdown",
      "source": [
        "**NOR GATE**"
      ],
      "metadata": {
        "id": "gDXd1_ggptcQ"
      }
    },
    {
      "cell_type": "code",
      "source": [
        "def NOR(x):\n",
        "    w = [1,1]\n",
        "    b = -1\n",
        "    # print(x)\n",
        "    return NOT(perceptron(x,w,b))"
      ],
      "metadata": {
        "id": "AVSvpIHLpVvR"
      },
      "execution_count": 8,
      "outputs": []
    },
    {
      "cell_type": "code",
      "source": [
        "nor = NOR(x2)\n",
        "gates['NOR'] = nor\n",
        "print('NOR', nor)"
      ],
      "metadata": {
        "colab": {
          "base_uri": "https://localhost:8080/"
        },
        "id": "MEiGdrdOpVrv",
        "outputId": "ba248458-fcae-4672-fa40-ea112cb1a02f"
      },
      "execution_count": 9,
      "outputs": [
        {
          "output_type": "stream",
          "name": "stdout",
          "text": [
            "NOR [1, 0, 0, 0]\n"
          ]
        }
      ]
    },
    {
      "cell_type": "code",
      "source": [
        "all_w = [[0,0],[0,1],[1,0],[1,1]]\n",
        "all_b = [-2, -1, 0, 1, 2]\n",
        "\n",
        "for w in all_w:\n",
        "    for b in all_b:\n",
        "        temp = perceptron(x2,w,b)\n",
        "        if temp == nor:\n",
        "            print(w, b, temp)"
      ],
      "metadata": {
        "id": "Zs6KZ57zdInK"
      },
      "execution_count": 10,
      "outputs": []
    },
    {
      "cell_type": "code",
      "source": [
        "data = pd.DataFrame(gates)\n",
        "print(data)"
      ],
      "metadata": {
        "colab": {
          "base_uri": "https://localhost:8080/"
        },
        "id": "JAbR_zevdPEn",
        "outputId": "e1cc40ef-55e0-41d4-887f-39c1837d2ce2"
      },
      "execution_count": 11,
      "outputs": [
        {
          "output_type": "stream",
          "name": "stdout",
          "text": [
            "        X  NOR\n",
            "0  [0, 0]    1\n",
            "1  [0, 1]    0\n",
            "2  [1, 0]    0\n",
            "3  [1, 1]    0\n"
          ]
        }
      ]
    },
    {
      "cell_type": "code",
      "source": [],
      "metadata": {
        "id": "CjBCPKFhdYIS"
      },
      "execution_count": null,
      "outputs": []
    }
  ]
}