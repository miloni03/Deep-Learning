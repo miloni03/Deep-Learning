{
  "nbformat": 4,
  "nbformat_minor": 0,
  "metadata": {
    "colab": {
      "provenance": []
    },
    "kernelspec": {
      "name": "python3",
      "display_name": "Python 3"
    },
    "language_info": {
      "name": "python"
    }
  },
  "cells": [
    {
      "cell_type": "code",
      "execution_count": null,
      "metadata": {
        "id": "Ox4RWPt9Zr6l"
      },
      "outputs": [],
      "source": [
        "import numpy as np\n",
        "import pandas as pd"
      ]
    },
    {
      "cell_type": "code",
      "source": [
        "x1 = [0,1]\n",
        "x2 = [[0,0],[0,1],[1,0],[1,1]]"
      ],
      "metadata": {
        "id": "aSzQlMLOZwNM"
      },
      "execution_count": null,
      "outputs": []
    },
    {
      "cell_type": "code",
      "source": [
        "gates = {}\n",
        "gates['X'] = x2"
      ],
      "metadata": {
        "id": "Qrav78I8ZxtL"
      },
      "execution_count": null,
      "outputs": []
    },
    {
      "cell_type": "markdown",
      "source": [
        "**FUNCTIONS**"
      ],
      "metadata": {
        "id": "cI-Fdkuoplya"
      }
    },
    {
      "cell_type": "code",
      "source": [
        "def activation(y_hat):\n",
        "    if(y_hat>=0):\n",
        "        return 1\n",
        "    else:\n",
        "        return 0"
      ],
      "metadata": {
        "id": "ZuaHQ5JYpGvp"
      },
      "execution_count": null,
      "outputs": []
    },
    {
      "cell_type": "code",
      "source": [
        "def perceptron(x,w,b):\n",
        "    y = []\n",
        "    for x_hat in x:\n",
        "        # print(x_hat)\n",
        "        xw = np.dot(x_hat,w) + b\n",
        "        # print(xw)\n",
        "        y.append(activation(xw))\n",
        "    return y"
      ],
      "metadata": {
        "id": "tSfBrAkipIJT"
      },
      "execution_count": null,
      "outputs": []
    },
    {
      "cell_type": "code",
      "source": [],
      "metadata": {
        "id": "YjOg0jSsa9Yw"
      },
      "execution_count": null,
      "outputs": []
    },
    {
      "cell_type": "markdown",
      "source": [
        "**OR GATE**"
      ],
      "metadata": {
        "id": "nMUI5BB6pntq"
      }
    },
    {
      "cell_type": "code",
      "source": [
        "def OR(x):\n",
        "    w = [1,1]\n",
        "    b = -1\n",
        "    # print(x)\n",
        "    return perceptron(x,w,b)"
      ],
      "metadata": {
        "id": "_JqA9HutpJ2N"
      },
      "execution_count": null,
      "outputs": []
    },
    {
      "cell_type": "code",
      "source": [
        "or_ = OR(x2)\n",
        "gates['OR'] = or_\n",
        "print('OR', or_)"
      ],
      "metadata": {
        "colab": {
          "base_uri": "https://localhost:8080/"
        },
        "id": "p6EiEZfrpLNg",
        "outputId": "8e34dbcd-1990-4623-9aad-7870aca547a1"
      },
      "execution_count": null,
      "outputs": [
        {
          "output_type": "stream",
          "name": "stdout",
          "text": [
            "OR [0, 1, 1, 1]\n"
          ]
        }
      ]
    },
    {
      "cell_type": "markdown",
      "source": [
        "**XOR GATE**"
      ],
      "metadata": {
        "id": "6ppHkJy0pxNy"
      }
    },
    {
      "cell_type": "code",
      "source": [
        "def XOR(x):\n",
        "    w1 = [-1,1]\n",
        "    b = -1\n",
        "    # print(x)\n",
        "    z1 = perceptron(x,w1,b)\n",
        "    # print(z1)\n",
        "\n",
        "    w2 = [1,-1]\n",
        "    z2 = perceptron(x,w2,b)\n",
        "    # print(z2)\n",
        "\n",
        "    z = []\n",
        "    for z1_hat, z2_hat in zip(z1,z2):\n",
        "        z.append([z1_hat,z2_hat])\n",
        "    # print(z)    \n",
        "    # print(list(zip(z1,z2)))\n",
        "    return OR(z)"
      ],
      "metadata": {
        "id": "NOXeeTX9pVji"
      },
      "execution_count": null,
      "outputs": []
    },
    {
      "cell_type": "code",
      "source": [
        "xor = XOR(x2)\n",
        "gates['XOR'] = xor\n",
        "print('XOR', xor)"
      ],
      "metadata": {
        "colab": {
          "base_uri": "https://localhost:8080/"
        },
        "id": "h0uEg_8dpVgx",
        "outputId": "05daced1-3ecc-425e-a8a5-b871cd0a81f2"
      },
      "execution_count": null,
      "outputs": [
        {
          "output_type": "stream",
          "name": "stdout",
          "text": [
            "XOR [0, 1, 1, 0]\n"
          ]
        }
      ]
    },
    {
      "cell_type": "code",
      "source": [
        "all_w = [[0,0],[0,1],[1,0],[1,1]]\n",
        "all_b = [-1, -2, 0, 1, 2]\n",
        "\n",
        "for w in all_w:\n",
        "    for b in all_b:\n",
        "        temp = perceptron(x2,w,b)\n",
        "        if temp == xor:\n",
        "            print(w, b, temp)"
      ],
      "metadata": {
        "id": "VWXJYsYLeYMO"
      },
      "execution_count": null,
      "outputs": []
    },
    {
      "cell_type": "code",
      "source": [
        "data = pd.DataFrame(gates)\n",
        "print(data)"
      ],
      "metadata": {
        "colab": {
          "base_uri": "https://localhost:8080/"
        },
        "id": "XiJ1_O66elok",
        "outputId": "2cf1ee62-9068-42fc-b27f-af85e4cde24f"
      },
      "execution_count": null,
      "outputs": [
        {
          "output_type": "stream",
          "name": "stdout",
          "text": [
            "        X  OR  XOR\n",
            "0  [0, 0]   0    0\n",
            "1  [0, 1]   1    1\n",
            "2  [1, 0]   1    1\n",
            "3  [1, 1]   1    0\n"
          ]
        }
      ]
    }
  ]
}