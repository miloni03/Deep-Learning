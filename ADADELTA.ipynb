{
  "nbformat": 4,
  "nbformat_minor": 0,
  "metadata": {
    "colab": {
      "provenance": []
    },
    "kernelspec": {
      "name": "python3",
      "display_name": "Python 3"
    },
    "language_info": {
      "name": "python"
    }
  },
  "cells": [
    {
      "cell_type": "code",
      "execution_count": 1,
      "metadata": {
        "id": "aALgREncAP8S"
      },
      "outputs": [],
      "source": [
        "import numpy as np\n",
        "import pandas as pd\n",
        "from sklearn import datasets\n",
        "import matplotlib.pyplot as plt"
      ]
    },
    {
      "cell_type": "code",
      "source": [
        "def sigmoid(Y_in):\n",
        "    return 1 / (1 + np.exp(-Y_in))"
      ],
      "metadata": {
        "id": "wEq1pl8iAqCQ"
      },
      "execution_count": 2,
      "outputs": []
    },
    {
      "cell_type": "code",
      "source": [
        "def find_Yhat(X, w, b):\n",
        "    # IF LIST OF LIST / LIST OF TUPLE IS USED, THEN INDIVIDUAL LIST/TUPLE SHOULD BE HANDLED DIFFERENTLY\n",
        "    if type(X) in [type([1]), type((1,2))]:\n",
        "        Y_in = np.dot(X, w) + b\n",
        "    else:\n",
        "        Y_in = X * w + b\n",
        "\n",
        "    return sigmoid(Y_in)"
      ],
      "metadata": {
        "id": "wXAidvwVArzm"
      },
      "execution_count": 3,
      "outputs": []
    },
    {
      "cell_type": "code",
      "source": [
        "def delta_w(X, Y_true, Y_pred):\n",
        "  return -2 * (Y_true - Y_pred) * Y_pred * (1 - Y_pred) * X"
      ],
      "metadata": {
        "id": "rnt5AEG5AtY4"
      },
      "execution_count": 4,
      "outputs": []
    },
    {
      "cell_type": "code",
      "source": [
        "def delta_b(Y_true, Y_pred):\n",
        "  return -2 * (Y_true - Y_pred) * Y_pred * (1 - Y_pred)"
      ],
      "metadata": {
        "id": "TQ3LRJz1Au8W"
      },
      "execution_count": 5,
      "outputs": []
    },
    {
      "cell_type": "code",
      "source": [
        "\n",
        "X = [0.5, 2.5]\n",
        "Y = [0.2, 0.9]"
      ],
      "metadata": {
        "id": "NYmb7usUAw9w"
      },
      "execution_count": 6,
      "outputs": []
    },
    {
      "cell_type": "code",
      "source": [
        "n_epochs = 300\n",
        "df = pd.DataFrame([(x, y) for x, y in zip(X, Y)], columns = ['X', 'Y'])\n",
        "df.head()"
      ],
      "metadata": {
        "colab": {
          "base_uri": "https://localhost:8080/",
          "height": 112
        },
        "id": "DqpOxhlIAzpd",
        "outputId": "0768e237-8852-4bf6-9833-a423d1dafe4e"
      },
      "execution_count": 7,
      "outputs": [
        {
          "output_type": "execute_result",
          "data": {
            "text/plain": [
              "     X    Y\n",
              "0  0.5  0.2\n",
              "1  2.5  0.9"
            ],
            "text/html": [
              "\n",
              "  <div id=\"df-2b8d9bbd-9d4f-4fce-9e9f-fa6add229de0\">\n",
              "    <div class=\"colab-df-container\">\n",
              "      <div>\n",
              "<style scoped>\n",
              "    .dataframe tbody tr th:only-of-type {\n",
              "        vertical-align: middle;\n",
              "    }\n",
              "\n",
              "    .dataframe tbody tr th {\n",
              "        vertical-align: top;\n",
              "    }\n",
              "\n",
              "    .dataframe thead th {\n",
              "        text-align: right;\n",
              "    }\n",
              "</style>\n",
              "<table border=\"1\" class=\"dataframe\">\n",
              "  <thead>\n",
              "    <tr style=\"text-align: right;\">\n",
              "      <th></th>\n",
              "      <th>X</th>\n",
              "      <th>Y</th>\n",
              "    </tr>\n",
              "  </thead>\n",
              "  <tbody>\n",
              "    <tr>\n",
              "      <th>0</th>\n",
              "      <td>0.5</td>\n",
              "      <td>0.2</td>\n",
              "    </tr>\n",
              "    <tr>\n",
              "      <th>1</th>\n",
              "      <td>2.5</td>\n",
              "      <td>0.9</td>\n",
              "    </tr>\n",
              "  </tbody>\n",
              "</table>\n",
              "</div>\n",
              "      <button class=\"colab-df-convert\" onclick=\"convertToInteractive('df-2b8d9bbd-9d4f-4fce-9e9f-fa6add229de0')\"\n",
              "              title=\"Convert this dataframe to an interactive table.\"\n",
              "              style=\"display:none;\">\n",
              "        \n",
              "  <svg xmlns=\"http://www.w3.org/2000/svg\" height=\"24px\"viewBox=\"0 0 24 24\"\n",
              "       width=\"24px\">\n",
              "    <path d=\"M0 0h24v24H0V0z\" fill=\"none\"/>\n",
              "    <path d=\"M18.56 5.44l.94 2.06.94-2.06 2.06-.94-2.06-.94-.94-2.06-.94 2.06-2.06.94zm-11 1L8.5 8.5l.94-2.06 2.06-.94-2.06-.94L8.5 2.5l-.94 2.06-2.06.94zm10 10l.94 2.06.94-2.06 2.06-.94-2.06-.94-.94-2.06-.94 2.06-2.06.94z\"/><path d=\"M17.41 7.96l-1.37-1.37c-.4-.4-.92-.59-1.43-.59-.52 0-1.04.2-1.43.59L10.3 9.45l-7.72 7.72c-.78.78-.78 2.05 0 2.83L4 21.41c.39.39.9.59 1.41.59.51 0 1.02-.2 1.41-.59l7.78-7.78 2.81-2.81c.8-.78.8-2.07 0-2.86zM5.41 20L4 18.59l7.72-7.72 1.47 1.35L5.41 20z\"/>\n",
              "  </svg>\n",
              "      </button>\n",
              "      \n",
              "  <style>\n",
              "    .colab-df-container {\n",
              "      display:flex;\n",
              "      flex-wrap:wrap;\n",
              "      gap: 12px;\n",
              "    }\n",
              "\n",
              "    .colab-df-convert {\n",
              "      background-color: #E8F0FE;\n",
              "      border: none;\n",
              "      border-radius: 50%;\n",
              "      cursor: pointer;\n",
              "      display: none;\n",
              "      fill: #1967D2;\n",
              "      height: 32px;\n",
              "      padding: 0 0 0 0;\n",
              "      width: 32px;\n",
              "    }\n",
              "\n",
              "    .colab-df-convert:hover {\n",
              "      background-color: #E2EBFA;\n",
              "      box-shadow: 0px 1px 2px rgba(60, 64, 67, 0.3), 0px 1px 3px 1px rgba(60, 64, 67, 0.15);\n",
              "      fill: #174EA6;\n",
              "    }\n",
              "\n",
              "    [theme=dark] .colab-df-convert {\n",
              "      background-color: #3B4455;\n",
              "      fill: #D2E3FC;\n",
              "    }\n",
              "\n",
              "    [theme=dark] .colab-df-convert:hover {\n",
              "      background-color: #434B5C;\n",
              "      box-shadow: 0px 1px 3px 1px rgba(0, 0, 0, 0.15);\n",
              "      filter: drop-shadow(0px 1px 2px rgba(0, 0, 0, 0.3));\n",
              "      fill: #FFFFFF;\n",
              "    }\n",
              "  </style>\n",
              "\n",
              "      <script>\n",
              "        const buttonEl =\n",
              "          document.querySelector('#df-2b8d9bbd-9d4f-4fce-9e9f-fa6add229de0 button.colab-df-convert');\n",
              "        buttonEl.style.display =\n",
              "          google.colab.kernel.accessAllowed ? 'block' : 'none';\n",
              "\n",
              "        async function convertToInteractive(key) {\n",
              "          const element = document.querySelector('#df-2b8d9bbd-9d4f-4fce-9e9f-fa6add229de0');\n",
              "          const dataTable =\n",
              "            await google.colab.kernel.invokeFunction('convertToInteractive',\n",
              "                                                     [key], {});\n",
              "          if (!dataTable) return;\n",
              "\n",
              "          const docLinkHtml = 'Like what you see? Visit the ' +\n",
              "            '<a target=\"_blank\" href=https://colab.research.google.com/notebooks/data_table.ipynb>data table notebook</a>'\n",
              "            + ' to learn more about interactive tables.';\n",
              "          element.innerHTML = '';\n",
              "          dataTable['output_type'] = 'display_data';\n",
              "          await google.colab.output.renderOutput(dataTable, element);\n",
              "          const docLink = document.createElement('div');\n",
              "          docLink.innerHTML = docLinkHtml;\n",
              "          element.appendChild(docLink);\n",
              "        }\n",
              "      </script>\n",
              "    </div>\n",
              "  </div>\n",
              "  "
            ]
          },
          "metadata": {},
          "execution_count": 7
        }
      ]
    },
    {
      "cell_type": "code",
      "source": [
        "def adaDelta_RMS(X, Y, noofepochs = 300, beta = 0.5):\n",
        "    w = -2; alpha = 1; b = -2;\n",
        "    e = 0.1\n",
        "    vw, vb = 0, 0\n",
        "\n",
        "    # LIST FOR ALL EPOCHS\n",
        "    error_mega_list = []\n",
        "    weights_mega_list = []\n",
        "    bias_mega_list = []\n",
        "        \n",
        "    for i in range(noofepochs):\n",
        "        # LIST FOR EACH EPOCH\n",
        "        error_list = []\n",
        "        for x, y in zip(X, Y):\n",
        "            Y_hat = find_Yhat(x, w, b)\n",
        "            error_list.append((y - Y_hat) ** 2)\n",
        "\n",
        "            dw = delta_w(x, y, Y_hat)\n",
        "            vw = beta * vw + (1 - beta) * (dw**2)\n",
        "            \n",
        "            db = delta_b(y, Y_hat)\n",
        "            vb = beta * vb + (1 - beta) * (db**2)\n",
        "\n",
        "            w += (-alpha / (vw + e)**0.5) * dw\n",
        "            b += (-alpha / (vb + e)**0.5) * db\n",
        "\n",
        "\n",
        "        error_mega_list.append(error_list)\n",
        "        weights_mega_list.append(w)\n",
        "        bias_mega_list.append(b)\n",
        "        \n",
        "    return error_mega_list, weights_mega_list, bias_mega_list"
      ],
      "metadata": {
        "id": "-e_1UPGKQluc"
      },
      "execution_count": 8,
      "outputs": []
    },
    {
      "cell_type": "code",
      "source": [
        "errors_rms, weights_rms, biases_rms = adaDelta_RMS(X, Y, n_epochs)"
      ],
      "metadata": {
        "id": "BwNviHx7Qqyl"
      },
      "execution_count": 9,
      "outputs": []
    },
    {
      "cell_type": "code",
      "source": [
        "print(round(np.mean(errors_rms[-1]),5))\n",
        "print(round(weights_rms[-1],3))\n",
        "print(round(biases_rms[-1],3))"
      ],
      "metadata": {
        "colab": {
          "base_uri": "https://localhost:8080/"
        },
        "id": "rozxi07CQslD",
        "outputId": "50bfa6f1-b834-4951-a1ef-0d81b47d7046"
      },
      "execution_count": 10,
      "outputs": [
        {
          "output_type": "stream",
          "name": "stdout",
          "text": [
            "0.0\n",
            "1.792\n",
            "-2.282\n"
          ]
        }
      ]
    },
    {
      "cell_type": "code",
      "source": [
        "plt.title(\"WEIGHT VS EPOCHS\")\n",
        "epoch_range = [i for i in range(n_epochs)]\n",
        "weight_range = [w for w in weights_rms]\n",
        "plt.plot(epoch_range, weight_range)\n",
        "plt.xlabel('EPOCHS ')\n",
        "plt.ylabel('WEIGHT')\n",
        "plt.show()"
      ],
      "metadata": {
        "colab": {
          "base_uri": "https://localhost:8080/",
          "height": 295
        },
        "id": "8X9A8szeQ1m0",
        "outputId": "fca9aeae-79a5-46c7-b2b4-fcc0000ff3c6"
      },
      "execution_count": 11,
      "outputs": [
        {
          "output_type": "display_data",
          "data": {
            "text/plain": [
              "<Figure size 432x288 with 1 Axes>"
            ],
            "image/png": "[encoded data removed]"
          },
          "metadata": {
            "needs_background": "light"
          }
        }
      ]
    },
    {
      "cell_type": "code",
      "source": [],
      "metadata": {
        "id": "NLOQRP0XQ5uQ"
      },
      "execution_count": null,
      "outputs": []
    }
  ]
}