{
  "nbformat": 4,
  "nbformat_minor": 0,
  "metadata": {
    "colab": {
      "provenance": []
    },
    "kernelspec": {
      "name": "python3",
      "display_name": "Python 3"
    },
    "language_info": {
      "name": "python"
    }
  },
  "cells": [
    {
      "cell_type": "markdown",
      "metadata": {
        "id": "4TBPuxtX_DBM"
      },
      "source": [
        "## **LSTM**"
      ]
    },
    {
      "cell_type": "code",
      "execution_count": null,
      "metadata": {
        "id": "cQTStP0NZsip"
      },
      "outputs": [],
      "source": [
        "import numpy as np\n",
        "import pandas as pd\n",
        "import matplotlib.pyplot as plt\n",
        "import seaborn as sns\n",
        "\n",
        "import tensorflow as tf\n",
        "from keras.datasets import imdb\n",
        "from keras.utils import plot_model\n",
        "from keras.models import Sequential\n",
        "from keras.layers import Dense, LSTM, Embedding\n",
        "from keras_preprocessing.sequence import pad_sequences"
      ]
    },
    {
      "cell_type": "code",
      "execution_count": null,
      "metadata": {
        "colab": {
          "base_uri": "https://localhost:8080/"
        },
        "id": "LFY0uzl_auCw",
        "outputId": "5909d8ce-0612-4999-db6e-6c1812b22b31"
      },
      "outputs": [
        {
          "name": "stdout",
          "output_type": "stream",
          "text": [
            "Downloading data from https://storage.googleapis.com/tensorflow/tf-keras-datasets/imdb.npz\n",
            "17464789/17464789 [==============================] - 2s 0us/step\n"
          ]
        }
      ],
      "source": [
        "# TOTAL TOP WORDS WE WANT\n",
        "top_words = 5000\n",
        "(X_train, Y_train), (X_test, Y_test) = imdb.load_data(num_words = top_words)"
      ]
    },
    {
      "cell_type": "code",
      "execution_count": null,
      "metadata": {
        "colab": {
          "base_uri": "https://localhost:8080/"
        },
        "id": "_HRoZjETbeRC",
        "outputId": "decbbf63-bfe8-4065-a110-0d2685d10e04"
      },
      "outputs": [
        {
          "name": "stdout",
          "output_type": "stream",
          "text": [
            "SHAPE OF X_train = (25000,) and Y_train = (25000,)\n",
            "SHAPE OF X_test = (25000,) and Y_test = (25000,)\n"
          ]
        }
      ],
      "source": [
        "print(f\"SHAPE OF X_train = {X_train.shape} and Y_train = {Y_train.shape}\")\n",
        "print(f\"SHAPE OF X_test = {X_test.shape} and Y_test = {Y_test.shape}\")"
      ]
    },
    {
      "cell_type": "code",
      "execution_count": null,
      "metadata": {
        "id": "i2vnGHBKb1fh"
      },
      "outputs": [],
      "source": [
        "max_review_length = 600\n",
        "X_train = pad_sequences(X_train, max_review_length)\n",
        "X_test = pad_sequences(X_test, max_review_length)"
      ]
    },
    {
      "cell_type": "code",
      "execution_count": null,
      "metadata": {
        "colab": {
          "base_uri": "https://localhost:8080/"
        },
        "id": "G_0RrHtgcQWD",
        "outputId": "b2e5223c-cc55-4869-e08d-8daa4422d58b"
      },
      "outputs": [
        {
          "name": "stdout",
          "output_type": "stream",
          "text": [
            "SHAPE OF X_train = (25000, 600) and Y_train = (25000,)\n",
            "SHAPE OF X_test = (25000, 600) and Y_test = (25000,)\n"
          ]
        }
      ],
      "source": [
        "print(f\"SHAPE OF X_train = {X_train.shape} and Y_train = {Y_train.shape}\")\n",
        "print(f\"SHAPE OF X_test = {X_test.shape} and Y_test = {Y_test.shape}\")"
      ]
    },
    {
      "cell_type": "code",
      "execution_count": null,
      "metadata": {
        "id": "T5PQcUr7cQxX"
      },
      "outputs": [],
      "source": [
        "embedding_vector_length = 64"
      ]
    },
    {
      "cell_type": "code",
      "execution_count": null,
      "metadata": {
        "id": "JXAkMfFYcb-t"
      },
      "outputs": [],
      "source": [
        "model = Sequential([\n",
        "    Embedding(top_words + 1, embedding_vector_length, input_length=max_review_length),\n",
        "    LSTM(500),\n",
        "    Dense(50, activation = 'relu'),\n",
        "    Dense(100, activation = 'relu'),\n",
        "    Dense(100, activation = 'relu'),\n",
        "    Dense(50, activation = 'relu'),\n",
        "    Dense(1, activation = 'sigmoid'),\n",
        "])"
      ]
    },
    {
      "cell_type": "code",
      "execution_count": null,
      "metadata": {
        "id": "sEBLgYtqdkO8"
      },
      "outputs": [],
      "source": [
        "model.compile(optimizer='adam', loss='binary_crossentropy', metrics=['accuracy'])\n",
        "# model.summary()\n",
        "# plot_model(model, to_file='model.png', show_shapes=True)"
      ]
    },
    {
      "cell_type": "code",
      "execution_count": null,
      "metadata": {
        "colab": {
          "base_uri": "https://localhost:8080/"
        },
        "id": "w3ElBlBod6uk",
        "outputId": "21208691-5783-4cc3-8111-86935390fc41"
      },
      "outputs": [
        {
          "name": "stdout",
          "output_type": "stream",
          "text": [
            "Epoch 1/10\n",
            "250/250 [==============================] - 47s 161ms/step - loss: 0.5984 - accuracy: 0.6830\n",
            "Epoch 2/10\n",
            "250/250 [==============================] - 42s 167ms/step - loss: 0.4757 - accuracy: 0.7755\n",
            "Epoch 3/10\n",
            "250/250 [==============================] - 43s 172ms/step - loss: 0.5764 - accuracy: 0.6880\n",
            "Epoch 4/10\n",
            "250/250 [==============================] - 44s 175ms/step - loss: 0.3600 - accuracy: 0.8488\n",
            "Epoch 5/10\n",
            "250/250 [==============================] - 44s 178ms/step - loss: 0.3202 - accuracy: 0.8658\n",
            "Epoch 6/10\n",
            "250/250 [==============================] - 45s 180ms/step - loss: 0.2354 - accuracy: 0.9054\n",
            "Epoch 7/10\n",
            "250/250 [==============================] - 45s 180ms/step - loss: 0.1871 - accuracy: 0.9270\n",
            "Epoch 8/10\n",
            "250/250 [==============================] - 45s 179ms/step - loss: 0.1589 - accuracy: 0.9394\n",
            "Epoch 9/10\n",
            "250/250 [==============================] - 45s 180ms/step - loss: 0.1386 - accuracy: 0.9477\n",
            "Epoch 10/10\n",
            "250/250 [==============================] - 45s 179ms/step - loss: 0.1192 - accuracy: 0.9563\n"
          ]
        }
      ],
      "source": [
        "h = model.fit(X_train, Y_train, epochs=10, batch_size=100)"
      ]
    },
    {
      "cell_type": "code",
      "execution_count": null,
      "metadata": {
        "colab": {
          "base_uri": "https://localhost:8080/"
        },
        "id": "sgxrZH6VeJG0",
        "outputId": "4cf95e64-0f02-4f21-993b-e7852e0c71d8"
      },
      "outputs": [
        {
          "name": "stdout",
          "output_type": "stream",
          "text": [
            "782/782 [==============================] - 23s 28ms/step - loss: 0.3794 - accuracy: 0.8724\n",
            "ACCURACY ON TESTING DATA: 0.872\n"
          ]
        }
      ],
      "source": [
        "loss, accuracy = model.evaluate(X_test, Y_test)\n",
        "print(\"ACCURACY ON TESTING DATA:\", round(accuracy, 3))"
      ]
    },
    {
      "cell_type": "code",
      "execution_count": null,
      "metadata": {
        "colab": {
          "base_uri": "https://localhost:8080/"
        },
        "id": "74R9MOfee0Du",
        "outputId": "81fbdd8a-51d7-4879-a949-12cbed0be8d2"
      },
      "outputs": [
        {
          "name": "stdout",
          "output_type": "stream",
          "text": [
            "782/782 [==============================] - 21s 26ms/step\n"
          ]
        }
      ],
      "source": [
        "Y_pred = model.predict(X_test)"
      ]
    },
    {
      "cell_type": "code",
      "execution_count": null,
      "metadata": {
        "id": "xdSSCZFSfG07"
      },
      "outputs": [],
      "source": [
        "Y_test = [i for i in Y_test]"
      ]
    },
    {
      "cell_type": "code",
      "execution_count": null,
      "metadata": {
        "id": "--26mTBpfbwQ"
      },
      "outputs": [],
      "source": [
        "Y_pred = [round(i[0]) for i in Y_pred]"
      ]
    },
    {
      "cell_type": "code",
      "execution_count": null,
      "metadata": {
        "colab": {
          "base_uri": "https://localhost:8080/"
        },
        "id": "Vuwy66RGgd4m",
        "outputId": "6bfd54ad-7e99-4634-df71-83912a02a3a8"
      },
      "outputs": [
        {
          "name": "stdout",
          "output_type": "stream",
          "text": [
            "WRONGLY PREDICTED = 3191/25000\n"
          ]
        }
      ],
      "source": [
        "incorr = 0\n",
        "for i in range(len(Y_pred)):\n",
        "    if Y_pred[i] != Y_test[i]:\n",
        "        incorr += 1\n",
        "\n",
        "print(f\"WRONGLY PREDICTED = {incorr}/{len(Y_pred)}\")"
      ]
    },
    {
      "cell_type": "code",
      "execution_count": null,
      "metadata": {
        "colab": {
          "base_uri": "https://localhost:8080/",
          "height": 497
        },
        "id": "jRCjFsFMff7d",
        "outputId": "c69a4b4c-9c66-4e36-c747-cfb2e67795ec"
      },
      "outputs": [
        {
          "data": {
            "image/png": "[encoded data removed]",
            "text/plain": [
              "<Figure size 864x576 with 2 Axes>"
            ]
          },
          "metadata": {},
          "output_type": "display_data"
        }
      ],
      "source": [
        "confuse_mat = tf.math.confusion_matrix(Y_test, Y_pred)\n",
        "plt.figure(figsize=(12,8))\n",
        "sns.heatmap(confuse_mat, annot = True, fmt = 'd')\n",
        "plt.xlabel(\"PREDICTED VALUE\")\n",
        "plt.ylabel(\"ACTUAL VALUE\")\n",
        "plt.show()"
      ]
    }
  ]
}